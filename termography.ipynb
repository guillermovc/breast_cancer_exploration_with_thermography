{
 "cells": [
  {
   "cell_type": "markdown",
   "metadata": {},
   "source": [
    "## Training IBC extracted gasket with PNG images and black background"
   ]
  },
  {
   "cell_type": "markdown",
   "metadata": {},
   "source": [
    "## Libraries"
   ]
  },
  {
   "cell_type": "code",
   "execution_count": 1,
   "metadata": {},
   "outputs": [],
   "source": [
    "import os\n",
    "os.environ['TF_FORCE_GPU_ALLOW_GROWTH'] = 'true'"
   ]
  },
  {
   "cell_type": "code",
   "execution_count": 2,
   "metadata": {},
   "outputs": [
    {
     "name": "stdout",
     "output_type": "stream",
     "text": [
      "Tensorflow version: 2.8.0\n"
     ]
    }
   ],
   "source": [
    "\n",
    "import matplotlib.pyplot as plt\n",
    "from numpy import expand_dims\n",
    "from PIL import Image\n",
    "import numpy as np\n",
    "import PIL\n",
    "import cv2\n",
    "import os\n",
    "from random import sample\n",
    "\n",
    "import tensorflow as tf\n",
    "from tensorflow import keras\n",
    "\n",
    "from tensorflow.keras import backend as K\n",
    "\n",
    "from tensorflow.keras.preprocessing import image\n",
    "\n",
    "from tensorflow.keras.preprocessing.image import ImageDataGenerator\n",
    "from tensorflow.keras.preprocessing.image import img_to_array\n",
    "from tensorflow.keras.preprocessing.image import load_img\n",
    "\n",
    "from tensorflow.keras.optimizers import Adam\n",
    "\n",
    "from tensorflow.keras.models import load_model\n",
    "from tensorflow.keras.models import model_from_json, model_from_yaml\n",
    "\n",
    "from tensorflow.keras.callbacks import ReduceLROnPlateau\n",
    "from tensorflow.keras.callbacks import ModelCheckpoint\n",
    "from tensorflow.keras.callbacks import EarlyStopping\n",
    "\n",
    "from sklearn.metrics import classification_report, confusion_matrix\n",
    "\n",
    "print(\"Tensorflow version:\", tf.__version__)"
   ]
  },
  {
   "cell_type": "code",
   "execution_count": 3,
   "metadata": {},
   "outputs": [
    {
     "name": "stdout",
     "output_type": "stream",
     "text": [
      "True\n",
      "WARNING:tensorflow:From C:\\Users\\USER\\AppData\\Local\\Temp/ipykernel_14092/3019221380.py:2: is_gpu_available (from tensorflow.python.framework.test_util) is deprecated and will be removed in a future version.\n",
      "Instructions for updating:\n",
      "Use `tf.config.list_physical_devices('GPU')` instead.\n",
      "True\n",
      "[PhysicalDevice(name='/physical_device:GPU:0', device_type='GPU')]\n"
     ]
    }
   ],
   "source": [
    "print(tf.test.is_built_with_cuda())\n",
    "print(tf.test.is_gpu_available(cuda_only=False,min_cuda_compute_capability=None))\n",
    "print(tf.config.list_physical_devices('GPU'))"
   ]
  },
  {
   "cell_type": "markdown",
   "metadata": {},
   "source": [
    "## Function to save as pb "
   ]
  },
  {
   "cell_type": "code",
   "execution_count": 4,
   "metadata": {},
   "outputs": [],
   "source": [
    "def freeze_session(session, keep_var_names=None, output_names=None, clear_devices=True):\n",
    "    \"\"\"\n",
    "    Freezes the state of a session into a pruned computation graph.\n",
    "\n",
    "    Creates a new computation graph where variable nodes are replaced by\n",
    "    constants taking their current value in the session. The new graph will be\n",
    "    pruned so subgraphs that are not necessary to compute the requested\n",
    "    outputs are removed.\n",
    "\n",
    "    @param session The TensorFlow session to be frozen.\n",
    "    @param keep_var_names A list of variable names that should not be frozen,\n",
    "                          or None to freeze all the variables in the graph.\n",
    "    @param output_names Names of the relevant graph outputs.\n",
    "    @param clear_devices Remove the device directives from the graph for better portability.\n",
    "    @return The frozen graph definition.\n",
    "    \"\"\"\n",
    "    graph = session.graph\n",
    "    with graph.as_default():\n",
    "        freeze_var_names = list(set(v.op.name for v in tf.global_variables()).difference(keep_var_names or []))\n",
    "        output_names = output_names or []\n",
    "        output_names += [v.op.name for v in tf.global_variables()]\n",
    "        input_graph_def = graph.as_graph_def()\n",
    "        if clear_devices:\n",
    "            for node in input_graph_def.node:\n",
    "                node.device = \"\"\n",
    "        frozen_graph = tf.graph_util.convert_variables_to_constants(\n",
    "            session, input_graph_def, output_names, freeze_var_names)\n",
    "        return frozen_graph"
   ]
  },
  {
   "cell_type": "markdown",
   "metadata": {},
   "source": [
    "## Testing Directories"
   ]
  },
  {
   "cell_type": "code",
   "execution_count": 5,
   "metadata": {
    "scrolled": true
   },
   "outputs": [],
   "source": [
    "# healthy_img_path = os.listdir(\"fotos/Healthy/p01/\")[0]\n",
    "# healthy_img=image.load_img(\"fotos/Healthy/p01/\"+healthy_img_path)\n",
    "# healthy_img.size\n",
    "# plt.title(\"Healthy image\")\n",
    "# plt.imshow(healthy_img)"
   ]
  },
  {
   "cell_type": "code",
   "execution_count": 6,
   "metadata": {},
   "outputs": [],
   "source": [
    "# ng_img_path = os.listdir(\"fotos/ng/\")[0]\n",
    "# ng_img=image.load_img(\"fotos/ng/\"+ng_img_path)\n",
    "# ng_img.size\n",
    "# plt.title(\"NG image\")\n",
    "# plt.imshow(ng_img)"
   ]
  },
  {
   "cell_type": "markdown",
   "metadata": {},
   "source": [
    "## Setting Directories"
   ]
  },
  {
   "cell_type": "code",
   "execution_count": 7,
   "metadata": {},
   "outputs": [],
   "source": [
    "base_dir = \"./output/\"\n",
    "\n",
    "train_dir = os.path.join(base_dir, \"train\")\n",
    "train_good_dir = os.path.join(train_dir, \"Healthy\")\n",
    "train_defect_dir = os.path.join(train_dir, \"Sick\")\n",
    "\n",
    "# Test is used after training to test model\n",
    "test_dir = os.path.join(base_dir, \"test\")\n",
    "test_good_dir = os.path.join(test_dir, \"Healthy\")\n",
    "test_defect_dir = os.path.join(test_dir, \"Sick\")"
   ]
  },
  {
   "cell_type": "code",
   "execution_count": 8,
   "metadata": {},
   "outputs": [],
   "source": [
    "num_good_train = len(os.listdir(train_good_dir))\n",
    "num_defect_train = len(os.listdir(train_defect_dir))\n",
    "\n",
    "num_good_test = len(os.listdir(test_good_dir))\n",
    "num_defect_test= len(os.listdir(test_defect_dir))"
   ]
  },
  {
   "cell_type": "markdown",
   "metadata": {},
   "source": [
    "## Dataset Characteristics"
   ]
  },
  {
   "cell_type": "code",
   "execution_count": 9,
   "metadata": {},
   "outputs": [
    {
     "name": "stdout",
     "output_type": "stream",
     "text": [
      "Total Training Good Images 3476\n",
      "Total Training Defect Images 825\n",
      "--\n",
      "Total Test Good Images 969\n",
      "Total Test Defect Images 224\n",
      "--\n",
      "Total Training Images 4301\n",
      "Total Testing Images 1193\n"
     ]
    }
   ],
   "source": [
    "print(\"Total Training Good Images\",num_good_train)\n",
    "print(\"Total Training Defect Images\",num_defect_train)\n",
    "print(\"--\")\n",
    "print(\"Total Test Good Images\", num_good_test)\n",
    "print(\"Total Test Defect Images\",num_defect_test)\n",
    "\n",
    "total_train = num_good_train+num_defect_train\n",
    "total_test = num_good_test+num_defect_test\n",
    "\n",
    "print(\"--\")\n",
    "print(\"Total Training Images\",total_train)\n",
    "print(\"Total Testing Images\",total_test)"
   ]
  },
  {
   "cell_type": "markdown",
   "metadata": {},
   "source": [
    "## Formatting Dataset"
   ]
  },
  {
   "cell_type": "code",
   "execution_count": 10,
   "metadata": {},
   "outputs": [],
   "source": [
    "IMG_SHAPE  = (640, 480) # Size of images, assuming they are square.\n",
    "num_channels = 1 # Color channels of images (3 for color and 1 for grayscale).\n",
    "batch_size = 8 # Bigger batch size leads to a faster training, but can affect loss and accuracy metrics."
   ]
  },
  {
   "cell_type": "code",
   "execution_count": 11,
   "metadata": {},
   "outputs": [
    {
     "name": "stdout",
     "output_type": "stream",
     "text": [
      "Found 4328 images belonging to 2 classes.\n",
      "Found 763 images belonging to 2 classes.\n",
      "Found 1401 images belonging to 2 classes.\n"
     ]
    }
   ],
   "source": [
    "image_gen_train = ImageDataGenerator(rescale = 1./255, horizontal_flip=True, validation_split=0.15)\n",
    "train_data_gen=image_gen_train.flow_from_directory(\n",
    "    batch_size = batch_size,\n",
    "    directory=train_dir,\n",
    "    shuffle=True,\n",
    "    target_size=IMG_SHAPE,\n",
    "    color_mode=\"grayscale\",\n",
    "    class_mode='binary',\n",
    "    subset=\"training\")\n",
    "\n",
    "validation_data_gen=image_gen_train.flow_from_directory(\n",
    "batch_size = batch_size,\n",
    "directory=train_dir,\n",
    "shuffle=True,\n",
    "target_size=IMG_SHAPE,\n",
    "color_mode=\"grayscale\",\n",
    "class_mode='binary',\n",
    "subset=\"validation\")\n",
    "\n",
    "image_gen_test=ImageDataGenerator(rescale=1./255, horizontal_flip=True)\n",
    "test_data_gen=image_gen_test.flow_from_directory(\n",
    "    batch_size=batch_size,\n",
    "    directory=test_dir,\n",
    "    shuffle=False,\n",
    "    target_size=IMG_SHAPE,\n",
    "    color_mode=\"grayscale\",\n",
    "    class_mode='binary')"
   ]
  },
  {
   "cell_type": "code",
   "execution_count": 12,
   "metadata": {},
   "outputs": [
    {
     "data": {
      "text/plain": [
       "{'Healthy': 0, 'Sick': 1}"
      ]
     },
     "execution_count": 12,
     "metadata": {},
     "output_type": "execute_result"
    }
   ],
   "source": [
    "train_data_gen.class_indices"
   ]
  },
  {
   "cell_type": "markdown",
   "metadata": {},
   "source": [
    "## VGG16 Model "
   ]
  },
  {
   "cell_type": "code",
   "execution_count": 13,
   "metadata": {},
   "outputs": [],
   "source": [
    "pre_trained_model = tf.keras.applications.VGG16(input_shape=(640,480,1), \n",
    "                                                include_top=False, weights=None)"
   ]
  },
  {
   "cell_type": "code",
   "execution_count": 14,
   "metadata": {},
   "outputs": [
    {
     "name": "stdout",
     "output_type": "stream",
     "text": [
      "input_1\n",
      "block1_conv1\n",
      "block1_conv2\n",
      "block1_pool\n",
      "block2_conv1\n",
      "block2_conv2\n",
      "block2_pool\n",
      "block3_conv1\n",
      "block3_conv2\n",
      "block3_conv3\n",
      "block3_pool\n",
      "block4_conv1\n",
      "block4_conv2\n",
      "block4_conv3\n",
      "block4_pool\n",
      "block5_conv1\n",
      "block5_conv2\n",
      "block5_conv3\n",
      "block5_pool\n"
     ]
    }
   ],
   "source": [
    "for layer in pre_trained_model.layers:\n",
    "    print(layer.name)\n",
    "    layer.trainable = False"
   ]
  },
  {
   "cell_type": "code",
   "execution_count": 15,
   "metadata": {},
   "outputs": [],
   "source": [
    "last_layer = pre_trained_model.get_layer('block5_pool')\n",
    "last_output = last_layer.output\n",
    "x = tf.keras.layers.GlobalMaxPooling2D()(last_output)\n",
    "x = tf.keras.layers.GaussianNoise(.1)(x)\n",
    "x = tf.keras.layers.Dense(512, activation='relu')(x)\n",
    "# x = tf.keras.layers.Dropout(0.2)(x)\n",
    "# x = tf.keras.layers.Dense(512, activation='relu')(x)\n",
    "# x = tf.keras.layers.Dense(256, activation='relu')(x)\n",
    "x = tf.keras.layers.Dense(256, activation='relu')(x)\n",
    "# x = tf.keras.layers.Dropout(0.2)(x)\n",
    "x = tf.keras.layers.Dense(128, activation='relu')(x)\n",
    "# x = tf.keras.layers.Dense(2, activation='softmax')(x)\n",
    "x = tf.keras.layers.Dropout(0.2)(x)\n",
    "x = tf.keras.layers.Dense(1, activation='sigmoid')(x)"
   ]
  },
  {
   "cell_type": "code",
   "execution_count": 16,
   "metadata": {},
   "outputs": [],
   "source": [
    "model = tf.keras.Model(pre_trained_model.input, x)"
   ]
  },
  {
   "cell_type": "markdown",
   "metadata": {},
   "source": [
    "## Compiling model"
   ]
  },
  {
   "cell_type": "code",
   "execution_count": 17,
   "metadata": {},
   "outputs": [],
   "source": [
    "model.compile(optimizer=\"adam\", loss=\"binary_crossentropy\", metrics=['acc'])"
   ]
  },
  {
   "cell_type": "code",
   "execution_count": 18,
   "metadata": {},
   "outputs": [],
   "source": [
    "filepath = 'termografias.h5'\n",
    "\n",
    "# Model Checkpoint callback save the best model, not last.\n",
    "checkpoint = ModelCheckpoint(filepath=filepath, monitor='val_loss', verbose=1, save_best_only=True, mode='min')\n",
    "\n",
    "# Early Stopping callback will stop training if some monitor metric doesn't improve in n epochs (patience).\n",
    "early_stopping = EarlyStopping(monitor='val_loss', patience=5)\n",
    "\n",
    "callbacks = [checkpoint]"
   ]
  },
  {
   "cell_type": "code",
   "execution_count": 19,
   "metadata": {},
   "outputs": [
    {
     "name": "stdout",
     "output_type": "stream",
     "text": [
      "Model: \"model\"\n",
      "_________________________________________________________________\n",
      " Layer (type)                Output Shape              Param #   \n",
      "=================================================================\n",
      " input_1 (InputLayer)        [(None, 640, 480, 1)]     0         \n",
      "                                                                 \n",
      " block1_conv1 (Conv2D)       (None, 640, 480, 64)      640       \n",
      "                                                                 \n",
      " block1_conv2 (Conv2D)       (None, 640, 480, 64)      36928     \n",
      "                                                                 \n",
      " block1_pool (MaxPooling2D)  (None, 320, 240, 64)      0         \n",
      "                                                                 \n",
      " block2_conv1 (Conv2D)       (None, 320, 240, 128)     73856     \n",
      "                                                                 \n",
      " block2_conv2 (Conv2D)       (None, 320, 240, 128)     147584    \n",
      "                                                                 \n",
      " block2_pool (MaxPooling2D)  (None, 160, 120, 128)     0         \n",
      "                                                                 \n",
      " block3_conv1 (Conv2D)       (None, 160, 120, 256)     295168    \n",
      "                                                                 \n",
      " block3_conv2 (Conv2D)       (None, 160, 120, 256)     590080    \n",
      "                                                                 \n",
      " block3_conv3 (Conv2D)       (None, 160, 120, 256)     590080    \n",
      "                                                                 \n",
      " block3_pool (MaxPooling2D)  (None, 80, 60, 256)       0         \n",
      "                                                                 \n",
      " block4_conv1 (Conv2D)       (None, 80, 60, 512)       1180160   \n",
      "                                                                 \n",
      " block4_conv2 (Conv2D)       (None, 80, 60, 512)       2359808   \n",
      "                                                                 \n",
      " block4_conv3 (Conv2D)       (None, 80, 60, 512)       2359808   \n",
      "                                                                 \n",
      " block4_pool (MaxPooling2D)  (None, 40, 30, 512)       0         \n",
      "                                                                 \n",
      " block5_conv1 (Conv2D)       (None, 40, 30, 512)       2359808   \n",
      "                                                                 \n",
      " block5_conv2 (Conv2D)       (None, 40, 30, 512)       2359808   \n",
      "                                                                 \n",
      " block5_conv3 (Conv2D)       (None, 40, 30, 512)       2359808   \n",
      "                                                                 \n",
      " block5_pool (MaxPooling2D)  (None, 20, 15, 512)       0         \n",
      "                                                                 \n",
      " global_max_pooling2d (Globa  (None, 512)              0         \n",
      " lMaxPooling2D)                                                  \n",
      "                                                                 \n",
      " gaussian_noise (GaussianNoi  (None, 512)              0         \n",
      " se)                                                             \n",
      "                                                                 \n",
      " dense (Dense)               (None, 512)               262656    \n",
      "                                                                 \n",
      " dense_1 (Dense)             (None, 256)               131328    \n",
      "                                                                 \n",
      " dense_2 (Dense)             (None, 128)               32896     \n",
      "                                                                 \n",
      " dropout (Dropout)           (None, 128)               0         \n",
      "                                                                 \n",
      " dense_3 (Dense)             (None, 1)                 129       \n",
      "                                                                 \n",
      "=================================================================\n",
      "Total params: 15,140,545\n",
      "Trainable params: 427,009\n",
      "Non-trainable params: 14,713,536\n",
      "_________________________________________________________________\n"
     ]
    }
   ],
   "source": [
    "model.summary()"
   ]
  },
  {
   "cell_type": "markdown",
   "metadata": {},
   "source": [
    "## Training"
   ]
  },
  {
   "cell_type": "code",
   "execution_count": 20,
   "metadata": {},
   "outputs": [
    {
     "name": "stdout",
     "output_type": "stream",
     "text": [
      "Epoch 1/10\n",
      "537/537 [==============================] - ETA: 0s - loss: 0.6327 - acc: 0.6806\n",
      "Epoch 1: val_loss improved from inf to 0.65409, saving model to termografias.h5\n",
      "537/537 [==============================] - 53s 92ms/step - loss: 0.6327 - acc: 0.6806 - val_loss: 0.6541 - val_acc: 0.6828\n",
      "Epoch 2/10\n",
      "537/537 [==============================] - ETA: 0s - loss: 0.6320 - acc: 0.6832\n",
      "Epoch 2: val_loss improved from 0.65409 to 0.64927, saving model to termografias.h5\n",
      "537/537 [==============================] - 50s 93ms/step - loss: 0.6320 - acc: 0.6832 - val_loss: 0.6493 - val_acc: 0.6828\n",
      "Epoch 3/10\n",
      "537/537 [==============================] - ETA: 0s - loss: 0.6295 - acc: 0.6818\n",
      "Epoch 3: val_loss improved from 0.64927 to 0.63314, saving model to termografias.h5\n",
      "537/537 [==============================] - 50s 93ms/step - loss: 0.6295 - acc: 0.6818 - val_loss: 0.6331 - val_acc: 0.6828\n",
      "Epoch 4/10\n",
      "537/537 [==============================] - ETA: 0s - loss: 0.6311 - acc: 0.6827\n",
      "Epoch 4: val_loss did not improve from 0.63314\n",
      "537/537 [==============================] - 50s 93ms/step - loss: 0.6311 - acc: 0.6827 - val_loss: 0.6332 - val_acc: 0.6828\n",
      "Epoch 5/10\n",
      "537/537 [==============================] - ETA: 0s - loss: 0.6258 - acc: 0.6844\n",
      "Epoch 5: val_loss improved from 0.63314 to 0.62905, saving model to termografias.h5\n",
      "537/537 [==============================] - 50s 94ms/step - loss: 0.6258 - acc: 0.6844 - val_loss: 0.6291 - val_acc: 0.6828\n",
      "Epoch 6/10\n",
      "537/537 [==============================] - ETA: 0s - loss: 0.6277 - acc: 0.6830\n",
      "Epoch 6: val_loss improved from 0.62905 to 0.62598, saving model to termografias.h5\n",
      "537/537 [==============================] - 50s 94ms/step - loss: 0.6277 - acc: 0.6830 - val_loss: 0.6260 - val_acc: 0.6828\n",
      "Epoch 7/10\n",
      "537/537 [==============================] - ETA: 0s - loss: 0.6271 - acc: 0.6830\n",
      "Epoch 7: val_loss did not improve from 0.62598\n",
      "537/537 [==============================] - 50s 94ms/step - loss: 0.6271 - acc: 0.6830 - val_loss: 0.6273 - val_acc: 0.6828\n",
      "Epoch 8/10\n",
      "537/537 [==============================] - ETA: 0s - loss: 0.6280 - acc: 0.6825\n",
      "Epoch 8: val_loss did not improve from 0.62598\n",
      "537/537 [==============================] - 50s 94ms/step - loss: 0.6280 - acc: 0.6825 - val_loss: 0.6264 - val_acc: 0.6828\n",
      "Epoch 9/10\n",
      "537/537 [==============================] - ETA: 0s - loss: 0.6267 - acc: 0.6827\n",
      "Epoch 9: val_loss improved from 0.62598 to 0.62543, saving model to termografias.h5\n",
      "537/537 [==============================] - 50s 94ms/step - loss: 0.6267 - acc: 0.6827 - val_loss: 0.6254 - val_acc: 0.6828\n",
      "Epoch 10/10\n",
      "537/537 [==============================] - ETA: 0s - loss: 0.6266 - acc: 0.6823\n",
      "Epoch 10: val_loss did not improve from 0.62543\n",
      "537/537 [==============================] - 50s 94ms/step - loss: 0.6266 - acc: 0.6823 - val_loss: 0.6262 - val_acc: 0.6828\n"
     ]
    }
   ],
   "source": [
    "import time\n",
    "\n",
    "n_epochs = 10\n",
    "\n",
    "start_time = time.time()\n",
    "\n",
    "vgg_classifier = model.fit(train_data_gen,\n",
    "    steps_per_epoch=(total_train//batch_size),\n",
    "    validation_data=validation_data_gen,\n",
    "    epochs = n_epochs,\n",
    "    shuffle=True,\n",
    "    batch_size = batch_size,\n",
    "    verbose = 1,\n",
    "    callbacks=callbacks)\n",
    "\n",
    "total_time = time.time() - start_time"
   ]
  },
  {
   "cell_type": "code",
   "execution_count": 21,
   "metadata": {},
   "outputs": [],
   "source": [
    "model.save(\"'termografias_last.h5\")"
   ]
  },
  {
   "cell_type": "code",
   "execution_count": 22,
   "metadata": {},
   "outputs": [
    {
     "data": {
      "image/png": "[encoded data removed]",
      "text/plain": [
       "<Figure size 432x288 with 1 Axes>"
      ]
     },
     "metadata": {
      "needs_background": "light"
     },
     "output_type": "display_data"
    },
    {
     "data": {
      "text/plain": [
       "<Figure size 4320x1440 with 0 Axes>"
      ]
     },
     "metadata": {},
     "output_type": "display_data"
    },
    {
     "data": {
      "image/png": "[encoded data removed]",
      "text/plain": [
       "<Figure size 432x288 with 1 Axes>"
      ]
     },
     "metadata": {
      "needs_background": "light"
     },
     "output_type": "display_data"
    },
    {
     "data": {
      "text/plain": [
       "<Figure size 1440x720 with 0 Axes>"
      ]
     },
     "metadata": {},
     "output_type": "display_data"
    }
   ],
   "source": [
    "# plotting the training accuracy and loss\n",
    "# Training and validation accuracy:\n",
    "import matplotlib.pyplot as plt\n",
    "plt.plot(vgg_classifier.history['acc'])\n",
    "plt.plot(vgg_classifier.history['val_acc'])\n",
    "plt.title('Model Accuracy')\n",
    "plt.ylabel('Accuracy')\n",
    "plt.xlabel('epoch')\n",
    "plt.legend(['train','test'],loc='upper left')\n",
    "plt.figure(figsize = (60,20))\n",
    "plt.show()\n",
    "\n",
    "# Summarize history for loss\n",
    "plt.plot(vgg_classifier.history['loss'],)\n",
    "plt.plot(vgg_classifier.history['val_loss'],)\n",
    "plt.title('Model loss')\n",
    "plt.ylabel('loss')\n",
    "plt.xlabel('epoch')\n",
    "plt.legend(['train','test'], loc = 'upper left')\n",
    "plt.figure(figsize = (20,10))\n",
    "plt.show()"
   ]
  },
  {
   "cell_type": "markdown",
   "metadata": {},
   "source": [
    "## Testing "
   ]
  },
  {
   "cell_type": "code",
   "execution_count": 23,
   "metadata": {},
   "outputs": [
    {
     "name": "stdout",
     "output_type": "stream",
     "text": [
      "c:\\Users\\USER\\Desktop\\Proyectos\\Guillermo\n"
     ]
    }
   ],
   "source": [
    "from tensorflow import keras\n",
    "print(os.getcwd())\n",
    "model = keras.models.load_model('termografias.h5')"
   ]
  },
  {
   "cell_type": "code",
   "execution_count": 24,
   "metadata": {},
   "outputs": [
    {
     "name": "stdout",
     "output_type": "stream",
     "text": [
      "176/176 [==============================] - 14s 80ms/step - loss: 0.6194 - acc: 0.6916\n",
      "test_loss, test accuracy [0.619369626045227, 0.6916488409042358]\n"
     ]
    }
   ],
   "source": [
    "result = model.evaluate(test_data_gen,batch_size=batch_size)\n",
    "print(\"test_loss, test accuracy\", result)"
   ]
  },
  {
   "cell_type": "markdown",
   "metadata": {},
   "source": [
    "## Calculate threshold"
   ]
  },
  {
   "cell_type": "code",
   "execution_count": 25,
   "metadata": {},
   "outputs": [],
   "source": [
    "Y_pred = model.predict(test_data_gen,total_test//batch_size)"
   ]
  },
  {
   "cell_type": "code",
   "execution_count": 26,
   "metadata": {},
   "outputs": [],
   "source": [
    "## extracting NG and G pred, then order and then \n",
    "ng_items = len(test_data_gen.classes) - np.count_nonzero(test_data_gen.classes)\n",
    "ng_ypred = np.copy(Y_pred[0:ng_items])\n",
    "g_items = np.count_nonzero(test_data_gen.classes)\n",
    "g_ypred = np.copy(Y_pred[ng_items:])"
   ]
  },
  {
   "cell_type": "code",
   "execution_count": 27,
   "metadata": {},
   "outputs": [
    {
     "name": "stdout",
     "output_type": "stream",
     "text": [
      "Prediction values distribution of Defected Parts\n",
      "  0-.1  .1-.2  .2-.3  .3-.4  .4-.5  .5-.6  .6-.7  .7-.8  .8-.9  .9-1\n",
      "     0      0      0    969      0      0      0      0      0     0\n",
      "Prediction values distribution of Good Parts\n",
      "  0-.1  .1-.2  .2-.3  .3-.4  .4-.5  .5-.6  .6-.7  .7-.8  .8-.9  .9-1\n",
      "     0      0      0    432      0      0      0      0      0     0\n"
     ]
    }
   ],
   "source": [
    "import pandas as pd\n",
    "ng_analysis = [0,0,0,0,0,0,0,0,0,0]\n",
    "for i in range(ng_items):\n",
    "    if ng_ypred[i] <= .1:\n",
    "        ng_analysis[0] += 1\n",
    "    elif .1 < ng_ypred[i] <= .2:\n",
    "        ng_analysis[1] += 1\n",
    "    elif .2 < ng_ypred[i] <= .3:\n",
    "        ng_analysis[2] += 1\n",
    "    elif .3 < ng_ypred[i] <= .4:\n",
    "        ng_analysis[3] += 1\n",
    "    elif .4 < ng_ypred[i] <= .5:\n",
    "        ng_analysis[4] += 1\n",
    "    elif .5 < ng_ypred[i] <= .6:\n",
    "        ng_analysis[5] += 1\n",
    "    elif .6 < ng_ypred[i] <= .7:\n",
    "        ng_analysis[6] += 1\n",
    "    elif .7 < ng_ypred[i] <= .8:\n",
    "        ng_analysis[7] += 1\n",
    "    elif .8 < ng_ypred[i] <= .9:\n",
    "        ng_analysis[8] += 1\n",
    "    elif .9 < ng_ypred[i] <= 1:\n",
    "        ng_analysis[9] += 1\n",
    "    else: \n",
    "        0\n",
    "g_analysis = [0,0,0,0,0,0,0,0,0,0]\n",
    "for i in range(g_items):\n",
    "    if g_ypred[i] <= .1:\n",
    "        g_analysis[0] += 1\n",
    "    elif .1 < g_ypred[i] <= .2:\n",
    "        g_analysis[1] += 1\n",
    "    elif .2 < g_ypred[i] <= .3:\n",
    "        g_analysis[2] += 1\n",
    "    elif .3 < g_ypred[i] <= .4:\n",
    "        g_analysis[3] += 1\n",
    "    elif .4 < g_ypred[i] <= .5:\n",
    "        g_analysis[4] += 1\n",
    "    elif .5 < g_ypred[i] <= .6:\n",
    "        g_analysis[5] += 1\n",
    "    elif .6 < g_ypred[i] <= .7:\n",
    "        g_analysis[6] += 1\n",
    "    elif .7 < g_ypred[i] <= .8:\n",
    "        g_analysis[7] += 1\n",
    "    elif .8 < g_ypred[i] <= .9:\n",
    "        g_analysis[8] += 1\n",
    "    elif .9 < g_ypred[i] <= 1:\n",
    "        g_analysis[9] += 1\n",
    "    else: \n",
    "        0 \n",
    "        \n",
    "ng = pd.DataFrame(ng_analysis, columns = [''])\n",
    "ng = ng.set_index([pd.Index(['0-.1','.1-.2','.2-.3','.3-.4','.4-.5','.5-.6','.6-.7','.7-.8','.8-.9','.9-1'])])\n",
    "ng = ng.transpose()\n",
    "print('Prediction values distribution of Defected Parts')\n",
    "print(ng)\n",
    "\n",
    "g = pd.DataFrame(g_analysis, columns = [''])\n",
    "g = g.set_index([pd.Index(['0-.1','.1-.2','.2-.3','.3-.4','.4-.5','.5-.6','.6-.7','.7-.8','.8-.9','.9-1'])])\n",
    "g = g.transpose()\n",
    "print('Prediction values distribution of Good Parts')\n",
    "print(g)"
   ]
  },
  {
   "cell_type": "code",
   "execution_count": 28,
   "metadata": {},
   "outputs": [
    {
     "name": "stdout",
     "output_type": "stream",
     "text": [
      "Defected Images Median: [0.33483648]\n",
      "Defected Images Mean: 0.3348363476764061\n",
      "Defected Images Maximum value: 0.3348511\n",
      "Good Images Median: [0.33483788]\n",
      "Good Images Mean: 0.3348385846173322\n",
      "Good Images Minimum value: 0.3348299\n"
     ]
    }
   ],
   "source": [
    "import statistics\n",
    "median_ng = statistics.median(ng_ypred)\n",
    "mean_ng = np.sum(ng_ypred)/len(ng_ypred)\n",
    "min_ng = np.max(ng_ypred)\n",
    "\n",
    "mean_g = np.sum(g_ypred)/len(g_ypred)\n",
    "median_g = statistics.median(g_ypred)\n",
    "min_g = np.min(g_ypred)\n",
    "\n",
    "print(\"Defected Images Median:\", median_ng)\n",
    "print(\"Defected Images Mean:\", mean_ng)\n",
    "print(\"Defected Images Maximum value:\", min_ng)\n",
    "\n",
    "print(\"Good Images Median:\",median_g)\n",
    "print(\"Good Images Mean:\",mean_g)\n",
    "print(\"Good Images Minimum value:\", min_g)"
   ]
  },
  {
   "cell_type": "markdown",
   "metadata": {},
   "source": [
    "## Confusion Matrix"
   ]
  },
  {
   "cell_type": "code",
   "execution_count": 29,
   "metadata": {},
   "outputs": [],
   "source": [
    "threshold = .50"
   ]
  },
  {
   "cell_type": "code",
   "execution_count": 30,
   "metadata": {},
   "outputs": [],
   "source": [
    "confussion_preds = np.copy(Y_pred)"
   ]
  },
  {
   "cell_type": "code",
   "execution_count": 31,
   "metadata": {},
   "outputs": [],
   "source": [
    "for i in range(len(test_data_gen.classes)):\n",
    "    if i < np.count_nonzero(test_data_gen.classes) : # iterate through pred of NG\n",
    "        if confussion_preds[i] <= threshold :\n",
    "            confussion_preds[i] = 0\n",
    "        else:\n",
    "            confussion_preds[i] = 1    \n",
    "    else:\n",
    "        if confussion_preds[i] >= threshold :\n",
    "            confussion_preds[i] = 1\n",
    "        else:\n",
    "            confussion_preds[i] = 0"
   ]
  },
  {
   "cell_type": "code",
   "execution_count": 32,
   "metadata": {},
   "outputs": [
    {
     "ename": "ModuleNotFoundError",
     "evalue": "No module named 'seaborn'",
     "output_type": "error",
     "traceback": [
      "\u001b[1;31m---------------------------------------------------------------------------\u001b[0m",
      "\u001b[1;31mModuleNotFoundError\u001b[0m                       Traceback (most recent call last)",
      "\u001b[1;32m~\\AppData\\Local\\Temp/ipykernel_14092/2183844664.py\u001b[0m in \u001b[0;36m<module>\u001b[1;34m\u001b[0m\n\u001b[1;32m----> 1\u001b[1;33m \u001b[1;32mimport\u001b[0m \u001b[0mseaborn\u001b[0m \u001b[1;32mas\u001b[0m \u001b[0msns\u001b[0m\u001b[1;33m\u001b[0m\u001b[1;33m\u001b[0m\u001b[0m\n\u001b[0m\u001b[0;32m      2\u001b[0m \u001b[1;33m\u001b[0m\u001b[0m\n\u001b[0;32m      3\u001b[0m \u001b[0mcf_matrix\u001b[0m \u001b[1;33m=\u001b[0m \u001b[0mconfusion_matrix\u001b[0m\u001b[1;33m(\u001b[0m\u001b[0mtest_data_gen\u001b[0m\u001b[1;33m.\u001b[0m\u001b[0mclasses\u001b[0m\u001b[1;33m,\u001b[0m \u001b[0mconfussion_preds\u001b[0m\u001b[1;33m)\u001b[0m\u001b[1;33m\u001b[0m\u001b[1;33m\u001b[0m\u001b[0m\n\u001b[0;32m      4\u001b[0m \u001b[1;33m\u001b[0m\u001b[0m\n\u001b[0;32m      5\u001b[0m \u001b[0mprint\u001b[0m\u001b[1;33m(\u001b[0m\u001b[1;34m'Confusion Matrix'\u001b[0m\u001b[1;33m)\u001b[0m\u001b[1;33m\u001b[0m\u001b[1;33m\u001b[0m\u001b[0m\n",
      "\u001b[1;31mModuleNotFoundError\u001b[0m: No module named 'seaborn'"
     ]
    }
   ],
   "source": [
    "import seaborn as sns\n",
    "\n",
    "cf_matrix = confusion_matrix(test_data_gen.classes, confussion_preds)\n",
    "\n",
    "print('Confusion Matrix')\n",
    "print(cf_matrix)\n",
    "print('Classification Report')\n",
    "target_names = ['Bad','Good']\n",
    "print(classification_report(test_data_gen.classes, confussion_preds, target_names=target_names))\n",
    "\n",
    "ax = sns.heatmap(cf_matrix, annot=True, cmap='Blues', fmt='g')\n",
    "\n",
    "ax.set_title('Seaborn Confusion Matrix with labels\\n\\n');\n",
    "ax.set_xlabel('\\nPredicted Values')\n",
    "ax.set_ylabel('Actual Values ');\n",
    "\n",
    "## Ticket labels - List must be in alphabetical order\n",
    "ax.xaxis.set_ticklabels(['NG','OK'])\n",
    "ax.yaxis.set_ticklabels(['NG','OK'])\n",
    "\n",
    "## Display the visualization of the Confusion Matrix.\n",
    "plt.show()\n",
    "\n",
    "plot = ax.get_figure()\n",
    "plot.savefig(\"confussion_matrix.jpg\")"
   ]
  },
  {
   "cell_type": "markdown",
   "metadata": {},
   "source": [
    "## NG IMAGES"
   ]
  },
  {
   "cell_type": "code",
   "execution_count": null,
   "metadata": {},
   "outputs": [],
   "source": [
    "images = []\n",
    "folder_path = test_defect_dir\n",
    "images_list = os.listdir(folder_path)\n",
    "for img in images_list:\n",
    "    img_path = os.path.join(folder_path, img)\n",
    "    img = plt.imread(img_path)\n",
    "    images.append(img)"
   ]
  },
  {
   "cell_type": "code",
   "execution_count": null,
   "metadata": {},
   "outputs": [],
   "source": [
    "from matplotlib.patches import Rectangle\n",
    "color = 'none'\n",
    "true_negative = 0\n",
    "false_negative = 0\n",
    "\n",
    "to_show = 10\n",
    "nrows = 5\n",
    "ncols = 5\n",
    "\n",
    "i = 0\n",
    "for row in range(nrows):\n",
    "    row += 1\n",
    "    plt.figure(figsize=(20,10))\n",
    "    for col in range(ncols):\n",
    "        col += 1\n",
    "        # print(ng_ypred[i])\n",
    "        pred = f\"{ng_ypred[i, 0]:.4f}\"\n",
    "        \n",
    "        plt.subplot(1, ncols, col)\n",
    "        plt.text(IMG_SHAPE/2, IMG_SHAPE-5,\"Pred =\" + pred, color=\"orange\", fontdict={\"fontsize\":13,\"fontweight\":'bold',\"ha\":\"center\", \"va\":\"baseline\"})\n",
    "        \n",
    "        if ng_ypred[i] < threshold:\n",
    "            color = 'g'\n",
    "            true_negative = true_negative +1\n",
    "        else:\n",
    "            color = 'r'\n",
    "            false_negative = false_negative +1\n",
    "        plt.gca().add_patch(Rectangle((0,0),IMG_SHAPE,IMG_SHAPE,linewidth=5,edgecolor=color,facecolor='none'))\n",
    "\n",
    "        plt.imshow(images[i])\n",
    "        i += 1\n",
    "\n",
    "    plt.show()\n",
    "\n",
    "print('True negative =' +' '+ str(true_negative))\n",
    "print('False negative =' + ' '+ str(false_negative))\n",
    "print ('Total evaluated parts =' + ' ' + str(true_negative+false_negative))"
   ]
  },
  {
   "cell_type": "markdown",
   "metadata": {},
   "source": [
    "## OK IMAGES"
   ]
  },
  {
   "cell_type": "code",
   "execution_count": null,
   "metadata": {},
   "outputs": [],
   "source": [
    "images = []\n",
    "folder_path = test_good_dir\n",
    "images_list = os.listdir(folder_path)\n",
    "for img in images_list:\n",
    "    img_path = os.path.join(folder_path, img)\n",
    "    img = plt.imread(img_path)\n",
    "    images.append(img)"
   ]
  },
  {
   "cell_type": "code",
   "execution_count": null,
   "metadata": {
    "scrolled": true
   },
   "outputs": [],
   "source": [
    "color = 'none'\n",
    "true_positive = 0\n",
    "false_positive = 0\n",
    "\n",
    "print ('Evaluation on Good Parts')\n",
    "\n",
    "i = 0\n",
    "for row in range(nrows):\n",
    "    row += 1\n",
    "    plt.figure(figsize=(20,10))\n",
    "    for col in range(ncols):\n",
    "        col += 1\n",
    "        pred = f\"{g_ypred[i, 0]:.4f}\"\n",
    "        \n",
    "        plt.subplot(1, ncols, col)\n",
    "        plt.text(IMG_SHAPE/2, IMG_SHAPE-5,\"Pred =\" + pred, color=\"orange\", fontdict={\"fontsize\":13,\"fontweight\":'bold',\"ha\":\"center\", \"va\":\"baseline\"})\n",
    "        \n",
    "        if ng_ypred[i] < threshold:\n",
    "            color = 'g'\n",
    "            true_negative = true_negative +1\n",
    "        else:\n",
    "            color = 'r'\n",
    "            false_negative = false_negative +1\n",
    "        plt.gca().add_patch(Rectangle((0,0),IMG_SHAPE,IMG_SHAPE,linewidth=5,edgecolor=color,facecolor='none'))\n",
    "\n",
    "        plt.imshow(images[i])\n",
    "        i += 1\n",
    "\n",
    "    plt.show()\n",
    "    \n",
    "print('True positive =' +' '+ str(true_positive))\n",
    "print('False positive =' + ' '+ str(false_positive))\n",
    "print ('Total evaluated parts =' + ' ' + str(true_positive+false_positive))"
   ]
  },
  {
   "cell_type": "markdown",
   "metadata": {},
   "source": [
    "## If saving last epoch in .pb from graph"
   ]
  },
  {
   "cell_type": "code",
   "execution_count": null,
   "metadata": {},
   "outputs": [],
   "source": [
    "input_node_names = [node.op.name for node in model.inputs]\n",
    "print('Input nodes names are:', str(input_node_names))"
   ]
  },
  {
   "cell_type": "code",
   "execution_count": null,
   "metadata": {},
   "outputs": [],
   "source": [
    "outputs_node_names=[node.op.name for node in model.outputs]\n",
    "print('Output nodes names are:', str(outputs_node_names))"
   ]
  },
  {
   "cell_type": "code",
   "execution_count": null,
   "metadata": {},
   "outputs": [],
   "source": [
    "frozen_graph = freeze_session(K.get_session(),output_names=[out.op.name for out in model.outputs])\n",
    "# Save to ./model/tf_model.pb\n",
    "tf.train.write_graph(frozen_graph, \"./\", \"ibc_gasket_training4.pb\", as_text=False)"
   ]
  },
  {
   "cell_type": "markdown",
   "metadata": {},
   "source": [
    "### Brief training report (.txt)"
   ]
  },
  {
   "cell_type": "code",
   "execution_count": null,
   "metadata": {},
   "outputs": [],
   "source": [
    "with open(\"training_report_fakra1011.txt\", \"w\") as f:\n",
    "    f.write(f\"Total number of epochs: {n_epochs} \\n\")\n",
    "    f.write(f\"Total time taken: {total_time/60} minutes \\n\")\n",
    "    f.write(\"\\nModel architecture: \\n\")\n",
    "    model.summary(print_fn=lambda x: f.write(x + \"\\n\"))\n",
    "    f.write(f\"\\nInput node name: {input_node_names[0]}\")\n",
    "    f.write(f\"\\nInput node name: {outputs_node_names[0]}\")"
   ]
  }
 ],
 "metadata": {
  "kernelspec": {
   "display_name": "Python 3",
   "language": "python",
   "name": "python3"
  },
  "language_info": {
   "codemirror_mode": {
    "name": "ipython",
    "version": 3
   },
   "file_extension": ".py",
   "mimetype": "text/x-python",
   "name": "python",
   "nbconvert_exporter": "python",
   "pygments_lexer": "ipython3",
   "version": "3.9.7"
  }
 },
 "nbformat": 4,
 "nbformat_minor": 4
}
